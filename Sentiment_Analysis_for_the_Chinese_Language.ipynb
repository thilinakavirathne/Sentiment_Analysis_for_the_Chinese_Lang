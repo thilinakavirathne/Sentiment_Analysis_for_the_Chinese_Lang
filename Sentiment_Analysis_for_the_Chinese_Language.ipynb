{
  "nbformat": 4,
  "nbformat_minor": 0,
  "metadata": {
    "colab": {
      "provenance": [],
      "include_colab_link": true
    },
    "kernelspec": {
      "name": "python3",
      "display_name": "Python 3"
    },
    "language_info": {
      "name": "python"
    }
  },
  "cells": [
    {
      "cell_type": "markdown",
      "metadata": {
        "id": "view-in-github",
        "colab_type": "text"
      },
      "source": [
        "<a href=\"https://colab.research.google.com/github/thilinakavirathne/Sentiment_Analysis_for_the_Chinese_Lang/blob/main/Sentiment_Analysis_for_the_Chinese_Language.ipynb\" target=\"_parent\"><img src=\"https://colab.research.google.com/assets/colab-badge.svg\" alt=\"Open In Colab\"/></a>"
      ]
    },
    {
      "cell_type": "markdown",
      "source": [
        "# **Sentiment Analysis for the Chinese Language**\n",
        "By Thilina Sandamal\n",
        "### Bluechip Technologies Asia"
      ],
      "metadata": {
        "id": "MKKb9SWCFgm3"
      }
    },
    {
      "cell_type": "markdown",
      "source": [
        "# **Python & SnowNLP: Sentiment Analysis for the Chinese Language**"
      ],
      "metadata": {
        "id": "shlUUuDFz4WZ"
      }
    },
    {
      "cell_type": "code",
      "source": [
        "from urllib.parse import urlparse, urljoin\n",
        "import requests\n",
        "from bs4 import BeautifulSoup\n",
        "\n",
        "def get_all_website_links(url):\n",
        "    urls = set()\n",
        "    domain_name = urlparse(url).netloc\n",
        "    soup = BeautifulSoup(requests.get(url).content, \"html.parser\")\n",
        "    for a_tag in soup.findAll(\"a\"):\n",
        "        href = a_tag.attrs.get(\"href\")\n",
        "        if href == \"\" or href is None:\n",
        "            continue\n",
        "        href = urljoin(url, href)\n",
        "        parsed_href = urlparse(href)\n",
        "        # cleaning URL\n",
        "        href = parsed_href.scheme + \"://\" + parsed_href.netloc + parsed_href.path\n",
        "        if domain_name not in href:\n",
        "            # external link\n",
        "            urls.add(href)  # Add external links to the set\n",
        "        else:\n",
        "            # internal link\n",
        "            urls.add(href)\n",
        "    return urls\n",
        "\n",
        "# Testing the function\n",
        "url = \"http://people.com.cn/\"\n",
        "all_links = get_all_website_links(url)\n",
        "for link in all_links:\n",
        "    print(link)\n"
      ],
      "metadata": {
        "colab": {
          "base_uri": "https://localhost:8080/"
        },
        "id": "7d6HPJ_k0Cbx",
        "outputId": "5780b78c-819d-4df0-9f2f-5629c52c86ab"
      },
      "execution_count": null,
      "outputs": [
        {
          "output_type": "stream",
          "name": "stdout",
          "text": [
            "http://edu.people.com.cn/n1/2024/0320/c1006-40199204.html\n",
            "http://finance.people.com.cn/n1/2024/0311/c1004-40193412.html\n",
            "http://www.china.com.cn/\n",
            "http://gx.people.com.cn/\n",
            "mailto://rmwjubao@people.cn\n",
            "http://www.npc.gov.cn/\n",
            "http://ent.people.com.cn/n1/2024/0320/c1012-40199409.html\n",
            "http://gongyi.people.com.cn/n1/2023/0531/c151132-40003160.html\n",
            "http://www.gwytb.gov.cn/\n",
            "http://yi.people.com.cn/\n",
            "http://usa.people.com.cn/\n",
            "http://www.rmwl.cn\n",
            "http://www.nrta.gov.cn/\n",
            "http://finance.people.com.cn/GB/8215/441842/441919/index.html\n",
            "http://www.chinaxiaokang.com/\n",
            "http://www.chinawriter.com.cn/\n",
            "http://opinion.people.com.cn/n1/2024/0320/c1003-40199027.html\n",
            "http://www.people.com.cn/GB/8722/index1.html\n",
            "http://society.people.com.cn/n1/2024/0320/c1008-40199063.html\n",
            "http://www.stcn.com/\n",
            "http://portuguese.people.com.cn/\n",
            "http://japan.people.com.cn/\n",
            "https://www.huanqiu.com/\n",
            "http://www.ce.cn/\n",
            "http://www.itrust.org.cn/home/index/itrust_certifi/wm/2710933198.html\n",
            "http://finance.people.com.cn/GB/8215/458434/458480/index.html\n",
            "http://yunying.people.cn/GB/448817/index.html\n",
            "http://sc.people.com.cn/\n",
            "http://lianghui.people.com.cn/2024/n1/2024/0309/c458609-40192451.html\n",
            "http://search.people.cn/\n",
            "http://finance.people.com.cn/n1/2024/0320/c1004-40199371.html\n",
            "mailto://jubao@people.cn\n",
            "http://ent.people.com.cn/n1/2024/0320/c1012-40199434.html\n",
            "http://finance.people.com.cn/n1/2024/0320/c1004-40199363.html\n",
            "http://world.people.com.cn/n1/2024/0320/c1002-40199207.html\n",
            "http://leaders.people.com.cn/n1/2024/0122/c58278-40163876.html\n",
            "http://kpzg.people.com.cn/n1/2024/0320/c404214-40199086.html\n",
            "http://opinion.people.com.cn/n1/2024/0311/c223228-40193782.html\n",
            "http://lianghui.people.com.cn/2024/n1/2024/0311/c458609-40193578.html\n",
            "http://lianghui.people.com.cn/2024/n1/2024/0312/c458561-40194530.html\n",
            "http://opinion.people.com.cn/\n",
            "http://lianghui.people.com.cn/2024/n1/2024/0311/c458609-40193062.html\n",
            "http://www.ts.cn/\n",
            "http://nx.people.com.cn/n2/2024/0320/c192482-40781669.html\n",
            "https://cflac.org.cn/zgwl/\n",
            "http://spanish.peopledaily.com.cn/\n",
            "http://world.people.com.cn/n1/2024/0320/c1002-40199051.html\n",
            "http://society.people.com.cn/n1/2024/0320/c1008-40199064.html\n",
            "javascript://void(0)\n",
            "http://finance.people.com.cn/n1/2024/0320/c1004-40199495.html\n",
            "http://politics.people.com.cn/n1/2024/0320/c1001-40199042.html\n",
            "http://www.southcn.com/\n",
            "http://hi.people.com.cn/\n",
            "http://www.chinamil.com.cn/\n",
            "http://lianghui.people.com.cn/2024/n1/2024/0312/c458609-40194402.html\n",
            "http://world.people.com.cn/n1/2024/0320/c1002-40199447.html\n",
            "http://society.people.com.cn/n1/2024/0320/c1008-40199065.html\n",
            "http://kpzg.people.com.cn/\n",
            "http://ent.people.com.cn/n1/2024/0320/c1012-40199420.html\n",
            "http://politics.people.com.cn/n1/2024/0320/c1024-40199012.html\n",
            "http://www.msweekly.com/\n",
            "http://world.people.com.cn/n1/2024/0320/c1002-40199438.html\n",
            "http://politics.people.com.cn/n1/2024/0320/c1001-40199355.html\n",
            "https://www.ccps.gov.cn/\n",
            "http://edu.people.com.cn/n1/2024/0320/c1006-40199190.html\n",
            "http://app.people.cn/sizheng\n",
            "http://jl.people.com.cn/\n",
            "http://www.chinanews.com/\n",
            "http://v.people.cn/\n",
            "http://health.people.com.cn/n1/2024/0320/c14739-40199356.html\n",
            "http://lianghui.people.com.cn/2024/n1/2024/0312/c458609-40193867.html\n",
            "http://finance.people.com.cn/n1/2024/0311/c1004-40193639.html\n",
            "http://leaders.people.com.cn/n1/2024/0219/c58278-40179072.html\n",
            "http://kf.people.com.cn/\n",
            "http://politics.people.com.cn/n1/2024/0320/c1001-40199293.html\n",
            "http://kpzg.people.com.cn/n1/2024/0320/c404214-40199109.html\n",
            "http://society.people.com.cn/n1/2024/0320/c1008-40199135.html\n",
            "http://cpc.people.com.cn/n1/2024/0320/c443712-40199294.html\n",
            "http://he.people.com.cn/GB/197089/409595/410073/index.html\n",
            "http://cpc.people.com.cn/GB/67481/448544/index.html\n",
            "http://lianghui.people.com.cn/2024/GB/458541/458711/index.html\n",
            "http://lianghui.people.com.cn/2024/n1/2024/0310/c458609-40192973.html\n",
            "http://lianghui.people.com.cn/2024/n1/2024/0310/c458561-40192999.html\n",
            "http://dangjian.people.com.cn/\n",
            "http://theory.people.com.cn/GB/40557/457759/index.html\n",
            "http://sso.people.com.cn/login\n",
            "http://vip.people.com.cn/\n",
            "http://opinion.people.com.cn/n1/2024/0320/c1003-40199028.html\n",
            "http://politics.people.com.cn/n1/2024/0320/c1001-40199351.html\n",
            "http://ent.people.com.cn/n1/2024/0320/c1012-40199340.html\n",
            "https://mr.people.cn/davmu/share/mp/video/2024/03/4ZvXbc0wzZ/index.html\n",
            "http://art.people.com.cn/\n",
            "http://world.people.com.cn/n1/2024/0320/c1002-40199334.html\n",
            "http://www.zytzb.gov.cn/\n",
            "http://politics.people.com.cn/n1/2024/0319/c1024-40198926.html\n",
            "http://yunying.people.cn/GB/458664/index.html\n",
            "http://cpc.people.com.cn/20th/\n",
            "https://mr.people.cn/davmu/share/mp/video/2024/03/zOybviQqvZ/index.html\n",
            "http://lianghui.people.com.cn/2024/n1/2024/0312/c458609-40193863.html\n",
            "http://ent.people.com.cn/n1/2024/0320/c1012-40199433.html\n",
            "http://www.eastday.com/\n",
            "http://www.cac.gov.cn/\n",
            "http://lianghui.people.com.cn/2024/GB/458541/458705/index.html\n",
            "http://www.people.com.cn/n/2013/1227/c373005-23961344.html\n",
            "http://edu.people.com.cn/GB/1053/index.html\n",
            "https://www.dswxyjy.org.cn/\n",
            "http://leaders.people.com.cn/GB/178291/218130/448966/457694/index.html\n",
            "http://politics.people.com.cn/n1/2024/0320/c1001-40199010.html\n",
            "http://tj.people.com.cn/ \n",
            "http://lianghui.people.com.cn/2024/n1/2024/0311/c458609-40193054.html\n",
            "http://www.cyol.com/\n",
            "http://nm.people.com.cn/\n",
            "http://www.rmsznet.com/\n",
            "http://qh.people.com.cn/\n",
            "http://australia.people.com.cn/\n",
            "http://lianghui.people.com.cn/2024/n1/2024/0312/c458609-40193864.html\n",
            "http://paper.people.com.cn/rmrb/index.html\n",
            "http://lianghui.people.com.cn/2024/n1/2024/0312/c458561-40193876.html\n",
            "http://henan.people.com.cn/\n",
            "http://world.people.com.cn/n1/2024/0320/c1002-40199262.html\n",
            "http://www.workercn.cn/\n",
            "http://arabic.people.com.cn/\n",
            "http://politics.people.com.cn/n1/2024/0320/c1024-40199041.html\n",
            "http://hm.people.com.cn/n1/2024/0320/c42272-40199034.html\n",
            "http://paper.people.com.cn/rmzk/paperindex.htm\n",
            "http://finance.people.com.cn/n1/2024/0320/c1004-40199410.html\n",
            "http://www.beian.gov.cn/portal/registerSystemInfo\n",
            "http://world.people.com.cn/n1/2024/0320/c1002-40199404.html\n",
            "http://fanfu.people.com.cn/n1/2024/0320/c64371-40199130.html\n",
            "http://www.gov.cn/\n",
            "http://www.cnautonews.com/\n",
            "http://lianghui.people.com.cn/2024/n1/2024/0312/c458609-40193869.html\n",
            "http://kpzg.people.com.cn/n1/2024/0320/c404214-40199090.html\n",
            "http://www.people.com.cn/GB/50142/420117/index.html\n",
            "http://culture.people.com.cn/GB/430418/index.html\n",
            "http://hb.people.com.cn/\n",
            "http://cpc.people.com.cn/xuexi/GB/433640/index.html\n",
            "http://sso.people.com.cn/resource/html/userInforPro.html\n",
            "http://lianghui.people.com.cn/2024/n1/2024/0311/c458609-40193552.html\n",
            "http://tj.people.com.cn/\n",
            "http://leaders.people.com.cn/n1/2024/0219/c58278-40179159.html\n",
            "http://lianghui.people.com.cn/2024/n1/2024/0312/c458561-40194559.html\n",
            "http://sz.people.com.cn/\n",
            "http://www.nopss.gov.cn/\n",
            "http://leaders.people.com.cn/GB/178291/218130/448966/458380/index.html\n",
            "http://pic.people.com.cn/n1/2024/0320/c1016-40199444.html\n",
            "http://yn.people.com.cn/n2/2024/0320/c378439-40781340.html\n",
            "http://opinion.people.com.cn/GB/223228/index.html\n",
            "http://www.minge.gov.cn/\n",
            "http://lianghui.people.com.cn/2024/n1/2024/0312/c458609-40194360.html\n",
            "http://data.people.com.cn/\n",
            "http://www.chinaql.org/GB/index.html\n",
            "http://finance.people.com.cn/n1/2024/0311/c1004-40193497.html\n",
            "http://jhsjk.people.cn/\n",
            "http://german.people.com.cn/\n",
            "http://ent.people.com.cn/GB/448897/458308/index.html\n",
            "http://www.people.com.cn/GB/1018/22259/index.html\n",
            "http://paper.people.com.cn/rmrbhwb/index.html\n",
            "http://world.people.com.cn/n1/2024/0320/c1002-40199046.html\n",
            "http://env.people.com.cn/\n",
            "http://liuyan.people.com.cn/login\n",
            "http://finance.people.com.cn/n1/2024/0320/c1004-40199394.html\n",
            "http://sn.people.com.cn/\n",
            "http://www.cqnews.net/\n",
            "http://paper.people.com.cn/fcyym/paperindex.htm\n",
            "http://cpc.people.com.cn/GB/64162/448633/index.html\n",
            "http://edu.people.com.cn/n1/2024/0320/c1006-40199159.html\n",
            "http://hr.peopledaily.com.cn/\n",
            "http://lianghui.people.com.cn/2024/n1/2024/0311/c458500-40193386.html\n",
            "https://liuyan.people.com.cn/threads/content\n",
            "http://society.people.com.cn/\n",
            "http://j.people.com.cn/\n",
            "http://www.cctv.com/\n",
            "http://paper.people.com.cn/zgnyb/paperindex.htm\n",
            "http://paper.people.com.cn/rmrb/html/2022-12/14/nw.D110000renmrb_20221214_1-09.htm\n",
            "http://society.people.com.cn/n1/2024/0320/c1008-40199185.html\n",
            "http://www.scopsr.gov.cn/\n",
            "http://www.malay.people.cn/\n",
            "http://www.haiwainet.cn/\n",
            "http://edu.people.com.cn/\n",
            "http://ent.people.com.cn/\n",
            "http://travel.people.com.cn/GB/41636/index.html\n",
            "http://www.swahili.people.cn/\n",
            "http://theory.people.com.cn/GB/148980/index.html\n",
            "http://opinion.people.com.cn/GB/427456/index.html\n",
            "http://www.kaz.people.cn/\n",
            "http://lianghui.people.com.cn/2024/n1/2024/0312/c458609-40193872.html\n",
            "http://cpc.people.com.cn/GB/64162/448556/index.html\n",
            "http://hlj.people.com.cn/\n",
            "http://cpc.people.com.cn/xuexi/GB/458616/index.html\n",
            "http://lianghui.people.com.cn/2024/n1/2024/0311/c458561-40193718.html\n",
            "http://ent.people.com.cn/n1/2024/0320/c1012-40199422.html\n",
            "http://military.people.com.cn/n1/2024/0320/c1011-40199461.html\n",
            "http://www.cnhubei.com/\n",
            "http://ln.people.com.cn/\n",
            "https://www.hubpd.com/\n",
            "http://hn.people.com.cn/\n",
            "https://ss.knet.cn/verifyseal.dll\n",
            "http://lianghui.people.com.cn/2024/n1/2024/0312/c458609-40193870.html\n",
            "http://finance.people.com.cn/n1/2024/0320/c1004-40199044.html\n",
            "http://beian.miit.gov.cn\n",
            "http://pic.people.com.cn/n1/2024/0320/c1016-40199455.html\n",
            "http://qh.people.com.cn/n2/2024/0320/c378418-40781605.html\n",
            "http://ent.people.com.cn/n1/2024/0320/c1012-40199011.html\n",
            "http://finance.people.com.cn/GB/8215/458434/458435/index.html\n",
            "http://society.people.com.cn/n1/2024/0320/c1008-40199137.html\n",
            "http://zhouenlai.people.cn/\n",
            "http://www.hqrw.com.cn/\n",
            "http://www.people.com.cn/img/2011zzzs/2018xxwlcb.htm\n",
            "http://www.gjbmj.gov.cn/\n",
            "http://military.people.com.cn/\n",
            "http://renshi.people.com.cn/n1/2024/0320/c139617-40199141.html\n",
            "http://www.gmw.cn/\n",
            "http://russian.people.com.cn/\n",
            "http://lianghui.people.com.cn/2024/GB/458543/index.html\n",
            "http://military.people.com.cn/GB/172467/index.html\n",
            "http://lianghui.people.com.cn/2024/n1/2024/0312/c458609-40194404.html\n",
            "http://xj.people.com.cn/\n",
            "http://nx.people.com.cn/\n",
            "http://pic.people.com.cn/n1/2024/0320/c1016-40199507.html\n",
            "http://www.cvf.org.cn/\n",
            "http://cq.people.com.cn/\n",
            "http://finance.people.com.cn/n1/2024/0311/c1004-40193501.html\n",
            "https://www.peopleyun.cn/\n",
            "http://cpc.people.com.cn/GB/67481/457481/index.html\n",
            "http://finance.people.com.cn/GB/70846/index.html\n",
            "http://health.people.com.cn/n1/2024/0320/c14739-40199316.html\n",
            "http://www.people.com.cn/GB/138812/index.html\n",
            "http://world.people.com.cn/n1/2024/0320/c1002-40199033.html\n",
            "http://lianghui.people.com.cn/2024/n1/2024/0311/c458561-40193855.html\n",
            "http://www.people.com.cn/GB/208743/403202/index.html\n",
            "http://cpc.people.com.cn/GB/69112/113427/index.html\n",
            "http://edu.people.com.cn/n1/2024/0320/c1006-40199201.html\n",
            "http://korea.people.com.cn/\n",
            "http://lianghui.people.com.cn/2024/n1/2024/0312/c458561-40193880.html\n",
            "http://korean.people.com.cn/\n",
            "http://opinion.people.com.cn/n1/2024/0320/c1003-40199032.html\n",
            "http://www.italian.people.cn/\n",
            "http://lianghui.people.com.cn/2024/n1/2024/0311/c458609-40193834.html\n",
            "http://sd.people.com.cn/n2/2024/0320/c166192-40781581.html\n",
            "http://opinion.people.com.cn/n1/2024/0320/c1003-40199026.html\n",
            "http://yn.people.com.cn/\n",
            "http://www.people.com.cn\n",
            "http://graphicnews.people.com.cn/\n",
            "http://www.gjrwls.com/\n",
            "http://www.wenweipo.com/\n",
            "http://tw.people.com.cn/\n",
            "http://ent.people.com.cn/n1/2024/0320/c1012-40199419.html\n",
            "http://finance.people.com.cn/n1/2024/0320/c1004-40199074.html\n",
            "http://lianghui.people.com.cn/2024/n1/2024/0311/c458561-40193099.html\n",
            "http://www.people.com.cn/32306/432845/441766/index.html\n",
            "http://en.people.cn/\n",
            "http://unn.people.com.cn/GB/422044/index.html\n",
            "http://finance.people.com.cn/n1/2024/0320/c1004-40199013.html\n",
            "http://health.people.com.cn/\n",
            "http://xz.people.com.cn/\n",
            "http://www.dswxyjy.org.cn/\n",
            "http://finance.people.com.cn/n1/2024/0320/c1004-40199365.html\n",
            "http://cpc.people.com.cn/GB/67481/431391/index.html\n",
            "http://liuyan.people.com.cn/home\n",
            "http://www.cppcc.gov.cn/\n",
            "http://ent.people.com.cn/n1/2024/0320/c1012-40199417.html\n",
            "http://politics.people.com.cn/n1/2024/0320/c1001-40199062.html\n",
            "http://ent.people.com.cn/n1/2024/0320/c1012-40199421.html\n",
            "http://kpzg.people.com.cn/GB/444839/index.html\n",
            "http://www.rednet.cn/\n",
            "http://www.people.com.cn/GB/208743/403202/403212/index.html\n",
            "http://world.people.com.cn/n1/2024/0320/c1002-40199442.html\n",
            "http://politics.people.com.cn/n1/2024/0320/c1001-40199014.html\n",
            "http://ztjy.people.cn/n1/2023/0422/c457340-32670511.html\n",
            "http://edu.people.com.cn/n1/2024/0320/c1006-40199156.html\n",
            "http://www.people.com.cn/GB/59476/index.html\n",
            "http://finance.people.com.cn/n1/2024/0311/c1004-40193491.html \n",
            "http://paper.people.com.cn/zgcsb/paperindex.htm\n",
            "http://job.people.com.cn/\n",
            "http://lianghui.people.com.cn/2024/GB/458543/458675/index.html\n",
            "http://theory.people.com.cn/n1/2024/0320/c40531-40199144.html\n",
            "http://kr.people.com.cn/\n",
            "http://world.people.com.cn/n1/2024/0320/c1002-40199187.html\n",
            "http://health.people.com.cn/n1/2024/0320/c14739-40199304.html\n",
            "http://paper.people.com.cn/xwzx/paperindex.htm\n",
            "http://society.people.com.cn/n1/2024/0320/c1008-40199200.html\n",
            "http://finance.people.com.cn/n1/2024/0320/c1004-40199385.html\n",
            "http://pic.people.com.cn/n1/2024/0320/c1016-40199392.html\n",
            "http://www.qstheory.cn/\n",
            "http://edu.people.com.cn/n1/2024/0320/c1006-40199188.html\n",
            "http://lianghui.people.com.cn/2024/n1/2024/0310/c458609-40192923.html\n",
            "http://society.people.com.cn/n1/2024/0320/c1008-40199068.html\n",
            "http://cq.people.com.cn/n2/2024/0320/c365402-40781211.html\n",
            "http://www.ccdi.gov.cn/\n",
            "http://people.com.cn/\n",
            "http://finance.people.com.cn/GB/8215/448875/458080/index.html\n",
            "http://828.people.com.cn/\n",
            "http://www.idcpc.org.cn/\n",
            "http://www.people.com.cn/img/2019peopleindex/html/gbds2019.html\n",
            "http://ent.people.com.cn/n1/2024/0320/c1012-40199435.html\n",
            "http://capital.people.com.cn/GB/440975/index.html\n",
            "http://opinion.people.com.cn/n1/2024/0320/c1003-40199030.html\n",
            "http://sports.people.com.cn/GB/436800/index.html\n",
            "http://world.people.com.cn/GB/57506/index.html\n",
            "http://v.people.cn/GB/61600/458544/458550/index.html\n",
            "http://www.wenming.cn/\n",
            "http://jx.people.com.cn/\n",
            "http://js.people.com.cn\n",
            "http://ent.people.com.cn/n1/2024/0320/c1012-40199347.html\n",
            "http://military.people.com.cn/n1/2024/0320/c1011-40199466.html\n",
            "http://bbs1.people.com.cn/\n",
            "http://bbs1.people.com.cn/board/1.html\n",
            "http://opinion.people.com.cn/GB/431649/index.html\n",
            "http://mongol.people.com.cn/\n",
            "http://sc.people.com.cn/GB/345545/410203/index.html\n",
            "http://pic.people.com.cn/n1/2024/0320/c1016-40199358.html\n",
            "http://liuyan.people.com.cn/\n",
            "http://cpc.people.com.cn/xuexi/GB/457576/index.html\n",
            "http://health.people.com.cn/n1/2024/0312/c14739-40194162.html\n",
            "http://www.zgjx.cn/\n",
            "http://uk.people.com.cn/\n",
            "http://leaders.people.com.cn/GB/178291/218130/442740/index.html\n",
            "http://politics.people.com.cn/n1/2024/0320/c1001-40199298.html\n",
            "http://www.iqilu.com/\n",
            "http://finance.people.com.cn/GB/8215/452688/index.html\n",
            "http://world.people.com.cn/n1/2024/0320/c1002-40199246.html\n",
            "http://paper.people.com.cn/rmlt/paperindex.htm\n",
            "http://ah.people.com.cn/\n",
            "http://paper.people.com.cn/rmrbhwb/paperindex.htm\n",
            "http://ent.people.com.cn/n1/2024/0320/c1012-40199345.html\n",
            "http://sh.people.com.cn/\n",
            "http://society.people.com.cn/n1/2024/0320/c1008-40199226.html\n",
            "http://www.people.com.cn/img/2014xuke/2018zzdxxkz.html\n",
            "http://cpc.people.com.cn/GB/67481/444924/index.html\n",
            "http://app.people.cn/h5/topic/subject_normal/2303\n",
            "http://ru.people.com.cn/\n",
            "http://finance.people.com.cn/n1/2024/0320/c1004-40199370.html\n",
            "http://bj.people.com.cn/\n",
            "http://opinion.people.com.cn/GB/8213/420650/index.html\n",
            "http://military.people.com.cn/n1/2024/0320/c1011-40199476.html\n",
            "http://unn.people.com.cn/difang/GB/387272/index.html\n",
            "http://paper.people.com.cn/jksb/paperindex.htm\n",
            "http://yjy.people.com.cn/\n",
            "http://fangtan.people.com.cn/\n",
            "http://pic.people.com.cn/\n",
            "http://finance.people.com.cn/n1/2024/0320/c1004-40199377.html\n",
            "http://cpc.people.com.cn/\n",
            "http://lianghui.people.com.cn/2024/n1/2024/0312/c458609-40194351.html\n",
            "http://politics.people.com.cn/GB/8198/434128/index.html\n",
            "http://lianghui.people.com.cn/2024/n1/2024/0312/c458561-40194492.html\n",
            "http://cpc.people.com.cn/GB/67481/444826/index.html\n",
            "http://lianghui.people.com.cn/2024/n1/2024/0307/c458561-40191194.html\n",
            "http://www.people.cn/app/download.html\n",
            "http://ent.people.com.cn/n1/2024/0320/c1012-40199411.html\n",
            "http://finance.people.com.cn/GB/8215/447389/index.html\n",
            "http://www.youth.cn/\n",
            "http://www.qizhiwang.org.cn/\n",
            "http://www.huanqiu.com/\n",
            "http://lianghui.people.com.cn/2024/\n",
            "http://world.people.com.cn/n1/2024/0320/c1002-40199081.html\n",
            "http://renshi.people.com.cn/\n",
            "http://opinion.people.com.cn/GB/427456/437949/index.html\n",
            "http://lianghui.people.com.cn/2024/n1/2024/0311/c458609-40193831.html\n",
            "https://app.people.cn/h5/topic/subject_normal/2303\n",
            "http://leaders.people.com.cn/n1/2024/0219/c58278-40179079.html\n",
            "http://world.people.com.cn/n1/2024/0320/c1002-40199429.html\n",
            "http://military.people.com.cn/n1/2024/0320/c1011-40199468.html\n",
            "http://health.people.com.cn/GB/415859/index.html\n",
            "http://ent.people.com.cn/n1/2024/0320/c1012-40199055.html\n",
            "http://media.people.com.cn/n1/2023/0504/c14677-32677659.html\n",
            "http://theory.people.com.cn/\n",
            "http://lianghui.people.com.cn/2024/n1/2024/0311/c458561-40193083.html\n",
            "http://www.taiwan.cn/\n",
            "http://world.people.com.cn/\n",
            "http://he.people.com.cn/\n",
            "http://gs.people.com.cn/\n",
            "http://kazakh.people.com.cn/\n",
            "http://world.people.com.cn/n1/2024/0320/c1002-40199448.html\n",
            "http://society.people.com.cn/n1/2024/0320/c1008-40199227.html\n",
            "http://lianghui.people.com.cn/2024/n1/2024/0311/c458609-40193856.html\n",
            "http://fanfu.people.com.cn/\n",
            "http://acftu.people.com.cn/\n",
            "http://culture.people.com.cn/GB/172318/index.html\n",
            "http://lianghui.people.com.cn/2024/n1/2024/0312/c458561-40194556.html\n",
            "http://health.people.com.cn/n1/2024/0320/c14739-40199342.html\n",
            "http://si.trustutn.org/info\n",
            "https://weiquan.people.com.cn/\n",
            "http://world.people.com.cn/GB/1029/42408/index.html\n",
            "http://french.peopledaily.com.cn/\n",
            "http://gonggao.people.com.cn/\n",
            "http://sx.people.com.cn/\n",
            "http://gd.people.com.cn/\n",
            "http://lianghui.people.com.cn/2024/n1/2024/0312/c458609-40194314.html\n",
            "http://lianghui.people.com.cn/2024/n1/2024/0312/c458561-40194554.html\n",
            "http://jx.people.com.cn/n2/2024/0316/c190260-40777683.html\n",
            "http://www.mj.org.cn/\n",
            "http://www.ceweekly.cn/\n",
            "http://society.people.com.cn/n1/2024/0320/c1008-40199066.html\n",
            "http://www.thai.people.cn/\n",
            "http://www.people.com.cn/GB/50142/420117/420317/index.html\n",
            "http://lianghui.people.com.cn/2024/n1/2024/0312/c458561-40194564.html\n",
            "http://www.dangjian.cn/\n",
            "http://www.cri.cn/\n",
            "http://sklccc.com.cn/\n",
            "http://leaders.people.com.cn/GB/178291/218130/458407/index.html\n",
            "http://world.people.com.cn/n1/2024/0320/c1002-40199047.html\n",
            "http://military.people.com.cn/n1/2024/0320/c1011-40199464.html\n",
            "http://military.people.com.cn/n1/2024/0320/c1011-40199481.html\n",
            "http://hm.people.com.cn/\n",
            "http://world.people.com.cn/GB/1029/42354/index.html\n",
            "http://www.ifnews.com/\n",
            "http://5g.people.cn/rmspdown/\n",
            "http://military.people.com.cn/GB/1076/index.html\n",
            "http://lianghui.people.com.cn/2024/n1/2024/0312/c458561-40194553.html\n",
            "http://v.people.cn/n1/2024/0320/c444662-40199498.html\n",
            "http://world.people.com.cn/n1/2024/0320/c1002-40199452.html\n",
            "http://ent.people.com.cn/GB/436846/441076/index.html\n",
            "http://military.people.com.cn/n1/2024/0320/c1011-40199470.html\n",
            "http://politics.people.com.cn/n1/2024/0320/c1001-40199043.html\n",
            "http://www.xinhuanet.com/\n",
            "http://society.people.com.cn/n1/2024/0320/c1008-40199182.html\n",
            "http://www.peoplemooc.com/\n",
            "http://finance.people.com.cn/\n",
            "http://lianghui.people.com.cn/2024/n1/2024/0312/c458561-40194557.html\n",
            "http://hi.people.com.cn/n2/2024/0320/c231190-40781312.html\n",
            "http://www.tibet.cn/\n",
            "http://sawcuengh.people.com.cn/\n",
            "http://health.people.com.cn/n1/2024/0320/c14739-40199344.html\n",
            "http://www.people.com.cn/img/2014xuke/2018hlwxw.html\n",
            "http://www.people.com.cn/img/2014xuke/2018wlcb.html\n",
            "http://www.counsellor.gov.cn/\n",
            "http://www.rmxiongan.com/\n",
            "http://world.people.com.cn/n1/2024/0320/c1002-40199274.html\n",
            "http://www.chinadaily.com.cn/\n",
            "http://finance.people.com.cn/n1/2024/0320/c1004-40199059.html\n",
            "https://www.xuexi.cn/\n",
            "http://fanfu.people.com.cn/n1/2024/0320/c64371-40199136.html\n",
            "http://www.people.com.cn/GB/50142/104580/index.html\n",
            "http://www.k618.cn/\n",
            "http://gz.people.com.cn/\n",
            "http://www.dengxiaopingnet.com/\n",
            "http://dangshi.people.com.cn/\n",
            "http://www.qianlong.com/\n",
            "http://sd.people.com.cn/\n",
            "http://cpc.people.com.cn/n1/2024/0320/c443712-40199310.html\n",
            "http://lianghui.people.com.cn/2024/n1/2024/0312/c458561-40193893.html\n",
            "http://theory.people.com.cn/n1/2024/0320/c40531-40199209.html\n",
            "http://world.people.com.cn/GB/157278/index.html\n",
            "http://paper.people.com.cn/rmrb/html/2022-12/09/nw.D110000renmrb_20221209_2-05.htm\n",
            "http://lianghui.people.com.cn/2024/GB/458543/458676/index.html\n",
            "http://lianghui.people.com.cn/2024/n1/2024/0311/c458609-40193833.html\n",
            "http://opinion.people.com.cn/n1/2024/0320/c1003-40199031.html\n",
            "http://nm.people.com.cn/n2/2024/0319/c196689-40780237.html\n",
            "http://health.people.com.cn/GB/408835/428895/index.html\n",
            "https://liuyan.people.com.cn/rmjy\n",
            "http://world.people.com.cn/n1/2024/0320/c1002-40199049.html\n",
            "http://leaders.people.com.cn/GB/178291/407226/index.html\n",
            "http://zj.people.com.cn/\n",
            "http://finance.people.com.cn/n1/2024/0320/c1004-40199071.html\n",
            "http://finance.people.com.cn/n1/2024/0320/c1004-40199362.html\n",
            "https://weiquan.people.com.cn/seo_pages/\n",
            "http://paper.people.com.cn/rmrb/html/2024-03/11/nbs.D110000renmrb_05.htm\n",
            "http://fanfu.people.com.cn/GB/143349/458410/index.html\n",
            "http://www.enorth.com.cn/\n",
            "http://lianghui.people.com.cn/2024/n1/2024/0311/c458609-40193061.html\n",
            "http://lianghui.people.com.cn/2024/n1/2024/0312/c458561-40193878.html\n",
            "http://www.greek.people.cn/\n",
            "http://edu.people.com.cn/n1/2024/0320/c1006-40199184.html\n",
            "http://www.people.com.cn/BIG5/\n",
            "http://finance.people.com.cn/n1/2024/0320/c1004-40199359.html\n",
            "http://www.piyao.org.cn/\n",
            "http://www.scio.gov.cn/\n",
            "http://cpc.people.com.cn/n1/2022/0720/c64387-32480412.html\n",
            "http://www.people.com.cn/img/2014xuke/2018icp.html\n",
            "http://www.people.com.cn/n1/2019/0308/c420117-30965009.html\n",
            "mailto://kf@people.cn\n",
            "http://world.people.com.cn/n1/2024/0320/c1002-40199456.html\n",
            "https://www.12377.cn/\n",
            "http://www.people.cn\n",
            "http://www.people.com.cn/img/2014xuke/2018wlwh.html\n",
            "http://leaders.people.com.cn/GB/178291/218130/451290/index.html\n",
            "http://www.12380.gov.cn/\n",
            "http://pic.people.com.cn/n1/2024/0320/c426981-40199006.html\n",
            "http://lianghui.people.com.cn/2024/n1/2024/0305/c458561-40189656.html\n",
            "http://lianghui.people.com.cn/2024/n1/2024/0311/c458561-40193841.html\n",
            "http://uyghur.people.com.cn/\n",
            "http://www.cdpf.org.cn/\n",
            "http://fj.people.com.cn/\n",
            "http://lianghui.people.com.cn/2024/n1/2024/0306/c458561-40190406.html\n",
            "http://www.chinapeace.gov.cn/\n",
            "http://www.cnr.cn/\n",
            "http://society.people.com.cn/n1/2024/0320/c1008-40199067.html\n",
            "http://dangjian.people.com.cn/GB/136058/448887/index.html\n",
            "http://politics.people.com.cn/n1/2024/0320/c1001-40199341.html\n",
            "http://www.legaldaily.com.cn/\n",
            "http://lianghui.people.com.cn/2024/n1/2024/0312/c458561-40194555.html\n",
            "http://health.people.com.cn/n1/2024/0320/c14739-40199388.html\n",
            "http://xizang.people.com.cn/\n",
            "http://env.people.com.cn/n1/2024/0320/c1010-40199058.html\n"
          ]
        }
      ]
    },
    {
      "cell_type": "code",
      "source": [
        "!pip install newspaper3k"
      ],
      "metadata": {
        "colab": {
          "base_uri": "https://localhost:8080/"
        },
        "id": "rldnfrjX1IF4",
        "outputId": "6586e206-26ac-4731-995b-74b7356a5097"
      },
      "execution_count": null,
      "outputs": [
        {
          "output_type": "stream",
          "name": "stdout",
          "text": [
            "Collecting newspaper3k\n",
            "  Downloading newspaper3k-0.2.8-py3-none-any.whl (211 kB)\n",
            "\u001b[?25l     \u001b[90m━━━━━━━━━━━━━━━━━━━━━━━━━━━━━━━━━━━━━━━━\u001b[0m \u001b[32m0.0/211.1 kB\u001b[0m \u001b[31m?\u001b[0m eta \u001b[36m-:--:--\u001b[0m\r\u001b[2K     \u001b[91m━━━━━━━━━━━━━━━━━━━━━━━━━━━━━━━━\u001b[0m\u001b[91m╸\u001b[0m\u001b[90m━━━━━━━\u001b[0m \u001b[32m174.1/211.1 kB\u001b[0m \u001b[31m5.2 MB/s\u001b[0m eta \u001b[36m0:00:01\u001b[0m\r\u001b[2K     \u001b[90m━━━━━━━━━━━━━━━━━━━━━━━━━━━━━━━━━━━━━━━━\u001b[0m \u001b[32m211.1/211.1 kB\u001b[0m \u001b[31m4.4 MB/s\u001b[0m eta \u001b[36m0:00:00\u001b[0m\n",
            "\u001b[?25hRequirement already satisfied: beautifulsoup4>=4.4.1 in /usr/local/lib/python3.10/dist-packages (from newspaper3k) (4.12.3)\n",
            "Requirement already satisfied: Pillow>=3.3.0 in /usr/local/lib/python3.10/dist-packages (from newspaper3k) (9.4.0)\n",
            "Requirement already satisfied: PyYAML>=3.11 in /usr/local/lib/python3.10/dist-packages (from newspaper3k) (6.0.1)\n",
            "Collecting cssselect>=0.9.2 (from newspaper3k)\n",
            "  Downloading cssselect-1.2.0-py2.py3-none-any.whl (18 kB)\n",
            "Requirement already satisfied: lxml>=3.6.0 in /usr/local/lib/python3.10/dist-packages (from newspaper3k) (4.9.4)\n",
            "Requirement already satisfied: nltk>=3.2.1 in /usr/local/lib/python3.10/dist-packages (from newspaper3k) (3.8.1)\n",
            "Requirement already satisfied: requests>=2.10.0 in /usr/local/lib/python3.10/dist-packages (from newspaper3k) (2.31.0)\n",
            "Collecting feedparser>=5.2.1 (from newspaper3k)\n",
            "  Downloading feedparser-6.0.11-py3-none-any.whl (81 kB)\n",
            "\u001b[2K     \u001b[90m━━━━━━━━━━━━━━━━━━━━━━━━━━━━━━━━━━━━━━━━\u001b[0m \u001b[32m81.3/81.3 kB\u001b[0m \u001b[31m9.8 MB/s\u001b[0m eta \u001b[36m0:00:00\u001b[0m\n",
            "\u001b[?25hCollecting tldextract>=2.0.1 (from newspaper3k)\n",
            "  Downloading tldextract-5.1.2-py3-none-any.whl (97 kB)\n",
            "\u001b[2K     \u001b[90m━━━━━━━━━━━━━━━━━━━━━━━━━━━━━━━━━━━━━━━━\u001b[0m \u001b[32m97.6/97.6 kB\u001b[0m \u001b[31m9.4 MB/s\u001b[0m eta \u001b[36m0:00:00\u001b[0m\n",
            "\u001b[?25hCollecting feedfinder2>=0.0.4 (from newspaper3k)\n",
            "  Downloading feedfinder2-0.0.4.tar.gz (3.3 kB)\n",
            "  Preparing metadata (setup.py) ... \u001b[?25l\u001b[?25hdone\n",
            "Collecting jieba3k>=0.35.1 (from newspaper3k)\n",
            "  Downloading jieba3k-0.35.1.zip (7.4 MB)\n",
            "\u001b[2K     \u001b[90m━━━━━━━━━━━━━━━━━━━━━━━━━━━━━━━━━━━━━━━━\u001b[0m \u001b[32m7.4/7.4 MB\u001b[0m \u001b[31m18.3 MB/s\u001b[0m eta \u001b[36m0:00:00\u001b[0m\n",
            "\u001b[?25h  Preparing metadata (setup.py) ... \u001b[?25l\u001b[?25hdone\n",
            "Requirement already satisfied: python-dateutil>=2.5.3 in /usr/local/lib/python3.10/dist-packages (from newspaper3k) (2.8.2)\n",
            "Collecting tinysegmenter==0.3 (from newspaper3k)\n",
            "  Downloading tinysegmenter-0.3.tar.gz (16 kB)\n",
            "  Preparing metadata (setup.py) ... \u001b[?25l\u001b[?25hdone\n",
            "Requirement already satisfied: soupsieve>1.2 in /usr/local/lib/python3.10/dist-packages (from beautifulsoup4>=4.4.1->newspaper3k) (2.5)\n",
            "Requirement already satisfied: six in /usr/local/lib/python3.10/dist-packages (from feedfinder2>=0.0.4->newspaper3k) (1.16.0)\n",
            "Collecting sgmllib3k (from feedparser>=5.2.1->newspaper3k)\n",
            "  Downloading sgmllib3k-1.0.0.tar.gz (5.8 kB)\n",
            "  Preparing metadata (setup.py) ... \u001b[?25l\u001b[?25hdone\n",
            "Requirement already satisfied: click in /usr/local/lib/python3.10/dist-packages (from nltk>=3.2.1->newspaper3k) (8.1.7)\n",
            "Requirement already satisfied: joblib in /usr/local/lib/python3.10/dist-packages (from nltk>=3.2.1->newspaper3k) (1.3.2)\n",
            "Requirement already satisfied: regex>=2021.8.3 in /usr/local/lib/python3.10/dist-packages (from nltk>=3.2.1->newspaper3k) (2023.12.25)\n",
            "Requirement already satisfied: tqdm in /usr/local/lib/python3.10/dist-packages (from nltk>=3.2.1->newspaper3k) (4.66.2)\n",
            "Requirement already satisfied: charset-normalizer<4,>=2 in /usr/local/lib/python3.10/dist-packages (from requests>=2.10.0->newspaper3k) (3.3.2)\n",
            "Requirement already satisfied: idna<4,>=2.5 in /usr/local/lib/python3.10/dist-packages (from requests>=2.10.0->newspaper3k) (3.6)\n",
            "Requirement already satisfied: urllib3<3,>=1.21.1 in /usr/local/lib/python3.10/dist-packages (from requests>=2.10.0->newspaper3k) (2.0.7)\n",
            "Requirement already satisfied: certifi>=2017.4.17 in /usr/local/lib/python3.10/dist-packages (from requests>=2.10.0->newspaper3k) (2024.2.2)\n",
            "Collecting requests-file>=1.4 (from tldextract>=2.0.1->newspaper3k)\n",
            "  Downloading requests_file-2.0.0-py2.py3-none-any.whl (4.2 kB)\n",
            "Requirement already satisfied: filelock>=3.0.8 in /usr/local/lib/python3.10/dist-packages (from tldextract>=2.0.1->newspaper3k) (3.13.1)\n",
            "Building wheels for collected packages: tinysegmenter, feedfinder2, jieba3k, sgmllib3k\n",
            "  Building wheel for tinysegmenter (setup.py) ... \u001b[?25l\u001b[?25hdone\n",
            "  Created wheel for tinysegmenter: filename=tinysegmenter-0.3-py3-none-any.whl size=13538 sha256=00c0f6f6cd82263843747436e94d2b1a4e146748273f00d5212ac47a28c4cedd\n",
            "  Stored in directory: /root/.cache/pip/wheels/c8/d6/6c/384f58df48c00b9a31d638005143b5b3ac62c3d25fb1447f23\n",
            "  Building wheel for feedfinder2 (setup.py) ... \u001b[?25l\u001b[?25hdone\n",
            "  Created wheel for feedfinder2: filename=feedfinder2-0.0.4-py3-none-any.whl size=3340 sha256=f7ec9e0f676962d3a96038cb177ec29ed3075c4451eb4ae274ccf57cc08a51db\n",
            "  Stored in directory: /root/.cache/pip/wheels/97/02/e7/a1ff1760e12bdbaab0ac824fae5c1bc933e41c4ccd6a8f8edb\n",
            "  Building wheel for jieba3k (setup.py) ... \u001b[?25l\u001b[?25hdone\n",
            "  Created wheel for jieba3k: filename=jieba3k-0.35.1-py3-none-any.whl size=7398382 sha256=31c23b6cc0913c3f8e69de1f24c8369d316f26e2671d9d9eeae19b432f7ebfc5\n",
            "  Stored in directory: /root/.cache/pip/wheels/7a/c4/0c/12a9a314ecac499456c4c3b2fcc2f635a3b45a39dfbd240299\n",
            "  Building wheel for sgmllib3k (setup.py) ... \u001b[?25l\u001b[?25hdone\n",
            "  Created wheel for sgmllib3k: filename=sgmllib3k-1.0.0-py3-none-any.whl size=6049 sha256=3bc06c0e0c4b37d384830bf14bfc6f8c65931ca512c16128f468fb334e6eea83\n",
            "  Stored in directory: /root/.cache/pip/wheels/f0/69/93/a47e9d621be168e9e33c7ce60524393c0b92ae83cf6c6e89c5\n",
            "Successfully built tinysegmenter feedfinder2 jieba3k sgmllib3k\n",
            "Installing collected packages: tinysegmenter, sgmllib3k, jieba3k, feedparser, cssselect, requests-file, feedfinder2, tldextract, newspaper3k\n",
            "Successfully installed cssselect-1.2.0 feedfinder2-0.0.4 feedparser-6.0.11 jieba3k-0.35.1 newspaper3k-0.2.8 requests-file-2.0.0 sgmllib3k-1.0.0 tinysegmenter-0.3 tldextract-5.1.2\n"
          ]
        }
      ]
    },
    {
      "cell_type": "code",
      "source": [
        "from newspaper import Article"
      ],
      "metadata": {
        "id": "-WZUD14B0C0L"
      },
      "execution_count": null,
      "outputs": []
    },
    {
      "cell_type": "code",
      "source": [
        "url = \"http://www.china.com.cn/\"\n",
        "a = Article(url, language='zh') # Chinese\n",
        "a.download()\n",
        "a.parse()"
      ],
      "metadata": {
        "colab": {
          "base_uri": "https://localhost:8080/"
        },
        "id": "OaWswxsW0J_s",
        "outputId": "355c21af-7c0a-4301-cc83-3ffa6c13a21f"
      },
      "execution_count": null,
      "outputs": [
        {
          "output_type": "stream",
          "name": "stderr",
          "text": [
            "Building prefix dict from /usr/local/lib/python3.10/dist-packages/jieba/dict.txt ...\n",
            "DEBUG:jieba:Building prefix dict from /usr/local/lib/python3.10/dist-packages/jieba/dict.txt ...\n",
            "Dumping model to file cache /tmp/jieba.cache\n",
            "DEBUG:jieba:Dumping model to file cache /tmp/jieba.cache\n",
            "Loading model cost 3.8452095985412598 seconds.\n",
            "DEBUG:jieba:Loading model cost 3.8452095985412598 seconds.\n",
            "Prefix dict has been built succesfully.\n",
            "DEBUG:jieba:Prefix dict has been built succesfully.\n"
          ]
        }
      ]
    },
    {
      "cell_type": "markdown",
      "source": [
        "initialization via the SnowNLP class"
      ],
      "metadata": {
        "id": "fYPbAQXO2Qqp"
      }
    },
    {
      "cell_type": "code",
      "source": [
        "pip install snownlp"
      ],
      "metadata": {
        "colab": {
          "base_uri": "https://localhost:8080/"
        },
        "id": "QENGWrtw2rtY",
        "outputId": "92aa3d7e-e9bb-4390-942f-a2e30c014d17"
      },
      "execution_count": null,
      "outputs": [
        {
          "output_type": "stream",
          "name": "stdout",
          "text": [
            "Collecting snownlp\n",
            "  Downloading snownlp-0.12.3.tar.gz (37.6 MB)\n",
            "\u001b[2K     \u001b[90m━━━━━━━━━━━━━━━━━━━━━━━━━━━━━━━━━━━━━━━━\u001b[0m \u001b[32m37.6/37.6 MB\u001b[0m \u001b[31m19.5 MB/s\u001b[0m eta \u001b[36m0:00:00\u001b[0m\n",
            "\u001b[?25h  Preparing metadata (setup.py) ... \u001b[?25l\u001b[?25hdone\n",
            "Building wheels for collected packages: snownlp\n",
            "  Building wheel for snownlp (setup.py) ... \u001b[?25l\u001b[?25hdone\n",
            "  Created wheel for snownlp: filename=snownlp-0.12.3-py3-none-any.whl size=37760946 sha256=f31a474b9a2abb9d4e10667565ee41e73dc71487e51fc678a933c3cac45547c9\n",
            "  Stored in directory: /root/.cache/pip/wheels/43/f3/70/8990fc249efeb396007766676706f71dd3d1ca3c023ce522ce\n",
            "Successfully built snownlp\n",
            "Installing collected packages: snownlp\n",
            "Successfully installed snownlp-0.12.3\n"
          ]
        }
      ]
    },
    {
      "cell_type": "code",
      "source": [
        "from snownlp import SnowNLP\n",
        "\n",
        "# Initialize SnowNLP with a Chinese text\n",
        "s = SnowNLP(u'我喜欢红包')  # Remember to prefix with 'u' to indicate a Unicode string\n",
        "\n",
        "# Tokenize the text into words\n",
        "words = s.words\n",
        "\n",
        "# Print the tokenized words\n",
        "print(words)\n"
      ],
      "metadata": {
        "colab": {
          "base_uri": "https://localhost:8080/"
        },
        "id": "dDHkD4az1Y1E",
        "outputId": "ee51f7fa-ecab-478c-a2fa-aee12467d37f"
      },
      "execution_count": null,
      "outputs": [
        {
          "output_type": "stream",
          "name": "stdout",
          "text": [
            "['我', '喜欢', '红包']\n"
          ]
        }
      ]
    },
    {
      "cell_type": "code",
      "source": [
        "from snownlp import SnowNLP\n",
        "s = SnowNLP(u'我喜欢红包')\n",
        "list(s.tags)"
      ],
      "metadata": {
        "colab": {
          "base_uri": "https://localhost:8080/"
        },
        "id": "GvyaoESv2bxd",
        "outputId": "4baaca6a-5665-43db-b904-888939987f6f"
      },
      "execution_count": null,
      "outputs": [
        {
          "output_type": "execute_result",
          "data": {
            "text/plain": [
              "[('我', 'r'), ('喜欢', 'v'), ('红包', 'n')]"
            ]
          },
          "metadata": {},
          "execution_count": 18
        }
      ]
    },
    {
      "cell_type": "markdown",
      "source": [
        "*   r: refers to pronoun.\n",
        "*   v: refers to verb.\n",
        "*   n: refers to noun.\n",
        "*   w: refers to punctuation.\n",
        "\n"
      ],
      "metadata": {
        "id": "skGNdO6g9hAn"
      }
    },
    {
      "cell_type": "markdown",
      "source": [
        "Coming back to the task is, now we need to get the keywords"
      ],
      "metadata": {
        "id": "BNnUySVW9xT-"
      }
    },
    {
      "cell_type": "code",
      "source": [
        "s.keywords(10)"
      ],
      "metadata": {
        "colab": {
          "base_uri": "https://localhost:8080/"
        },
        "id": "MQc8vWIp5FS-",
        "outputId": "763f108d-d9be-48f7-c62c-7d4d93121347"
      },
      "execution_count": null,
      "outputs": [
        {
          "output_type": "execute_result",
          "data": {
            "text/plain": [
              "['红包', '喜欢']"
            ]
          },
          "metadata": {},
          "execution_count": 19
        }
      ]
    },
    {
      "cell_type": "code",
      "source": [
        "s.summary(3)"
      ],
      "metadata": {
        "colab": {
          "base_uri": "https://localhost:8080/"
        },
        "id": "gJnackHK977H",
        "outputId": "69c4f35b-510e-4843-e5f5-33ee1f8bfd7a"
      },
      "execution_count": null,
      "outputs": [
        {
          "output_type": "execute_result",
          "data": {
            "text/plain": [
              "['我喜欢红包']"
            ]
          },
          "metadata": {},
          "execution_count": 20
        }
      ]
    },
    {
      "cell_type": "code",
      "source": [
        "s.sentiments"
      ],
      "metadata": {
        "colab": {
          "base_uri": "https://localhost:8080/"
        },
        "id": "ZlOv1-a699qH",
        "outputId": "6aa62e28-cee5-46d8-e25b-0f59af437458"
      },
      "execution_count": null,
      "outputs": [
        {
          "output_type": "execute_result",
          "data": {
            "text/plain": [
              "0.5116350732054405"
            ]
          },
          "metadata": {},
          "execution_count": 21
        }
      ]
    },
    {
      "cell_type": "markdown",
      "source": [
        "split the whole text into sentences"
      ],
      "metadata": {
        "id": "pedMVYAB-Ay_"
      }
    },
    {
      "cell_type": "code",
      "source": [
        "from snownlp import SnowNLP\n",
        "\n",
        "# Check if the input text is not empty and contains at least 1000 characters\n",
        "if a.text and len(a.text) >= 1000:\n",
        "    # Create SnowNLP object with the first 1000 characters of the text\n",
        "    s = SnowNLP(a.text[:1000])\n",
        "\n",
        "    # Keywords\n",
        "    print(\"The keywords are:\")\n",
        "    print(*s.keywords(5), sep=\", \")\n",
        "\n",
        "    # Summary\n",
        "    print(\"The summary is:\")\n",
        "    print(*s.summary(2), sep=\", \")\n",
        "    print(\" \")\n",
        "\n",
        "    # Sentiment analysis on individual sentences\n",
        "    sentences = s.sentences\n",
        "    for sentence in sentences:\n",
        "        s_sentence = SnowNLP(sentence)\n",
        "        print(\"Sentence:\", sentence)\n",
        "        print(\"Sentiment:\", s_sentence.sentiments)\n",
        "else:\n",
        "    print(\"Error: Input text is empty or contains fewer than 1000 characters\")\n"
      ],
      "metadata": {
        "colab": {
          "base_uri": "https://localhost:8080/"
        },
        "id": "n-f176UA-CCN",
        "outputId": "f8953b16-638f-4eb5-e587-d92cc3599205"
      },
      "execution_count": null,
      "outputs": [
        {
          "output_type": "stream",
          "name": "stdout",
          "text": [
            "Error: Input text is empty or contains fewer than 1000 characters\n"
          ]
        }
      ]
    },
    {
      "cell_type": "code",
      "source": [
        "from snownlp import SnowNLP\n",
        "\n",
        "# Replace the input text with your desired text\n",
        "input_text = \"\"\"Press release\n",
        "The spokesperson of the Chinese Embassy in the Philippines responded to reporters’ questions on U.S. Secretary of State Blinken’s erroneous remarks on the South China Sea issue\n",
        "Taiwan Affairs Office of the State Council: Firmly opposed to any form of official exchanges between countries that have diplomatic relations with China and Taiwan\n",
        "Ministry of Foreign Affairs: Congratulations to Mustafa on his assumption of office as the new Palestinian Prime Minister\n",
        "Ministry of Foreign Affairs: Urging Japan to take concrete actions to completely break away from militarism\n",
        "On March 19, 2024, Foreign Ministry Spokesperson Lin Jian hosted a regular press conference\n",
        "The spokesman of the National Development and Reform Commission discussed new opportunities for China's economy with the business community\n",
        "On March 18, 2024, Foreign Ministry Spokesperson Lin Jian hosted a regular press conference\n",
        "Taiwan Affairs Office of the State Council: Mutual assistance in dealing with emergencies at sea is the right way for both sides in the Taiwan Strait\n",
        "Spokesperson of the Ministry of Foreign Affairs responded to the negative remarks of the US Ambassador to China regarding China\n",
        "Ministry of Foreign Affairs: Will provide assistance to Cuba in overcoming current difficulties\n",
        "On March 15, 2024, Foreign Ministry Spokesperson Wang Wenbin hosted a regular press conference\n",
        "Taiwan Affairs Office of the State Council: Firmly supports the mainland coast guard department in carrying out law enforcement inspections in waters near Kinmen\n",
        "Ministry of Foreign Affairs: Spreading false information cannot stop China’s progress\n",
        "Ministry of National Defense: India should stop actions that are inconsistent with easing the border situation\"\"\"\n",
        "\n",
        "# Create SnowNLP object with the input text\n",
        "s = SnowNLP(input_text)\n",
        "\n",
        "# Keywords\n",
        "print(\"The keywords are:\")\n",
        "print(*s.keywords(5), sep=\", \")\n",
        "\n",
        "# Summary\n",
        "print(\"The summary is:\")\n",
        "print(*s.summary(2), sep=\", \")\n",
        "print(\" \")\n",
        "\n",
        "# Sentiment analysis on individual sentences\n",
        "sentences = s.sentences\n",
        "for sentence in sentences:\n",
        "    s_sentence = SnowNLP(sentence)\n",
        "    print(\"Sentence:\", sentence)\n",
        "    print(\"Sentiment:\", s_sentence.sentiments)\n"
      ],
      "metadata": {
        "colab": {
          "base_uri": "https://localhost:8080/"
        },
        "id": "t-1Pq7g4-Onj",
        "outputId": "f9f58423-f428-462e-b0d2-bf3163ea3bd9"
      },
      "execution_count": null,
      "outputs": [
        {
          "output_type": "stream",
          "name": "stdout",
          "text": [
            "The keywords are:\n",
            "Foreign, Ministry, State, Affairs:, actions\n",
            "The summary is:\n",
            "Ministry of National Defense: India should stop actions that are inconsistent with easing the border situation, Ministry of Foreign Affairs: Spreading false information cannot stop China’s progress\n",
            " \n",
            "Sentence: Press release\n",
            "Sentiment: 0.4737672181921908\n",
            "Sentence: The spokesperson of the Chinese Embassy in the Philippines responded to reporters’ questions on U.S. Secretary of State Blinken’s erroneous remarks on the South China Sea issue\n",
            "Sentiment: 0.07737095533983573\n",
            "Sentence: Taiwan Affairs Office of the State Council: Firmly opposed to any form of official exchanges between countries that have diplomatic relations with China and Taiwan\n",
            "Sentiment: 0.186883963356826\n",
            "Sentence: Ministry of Foreign Affairs: Congratulations to Mustafa on his assumption of office as the new Palestinian Prime Minister\n",
            "Sentiment: 0.21384155132474048\n",
            "Sentence: Ministry of Foreign Affairs: Urging Japan to take concrete actions to completely break away from militarism\n",
            "Sentiment: 0.27984147275311977\n",
            "Sentence: On March 19, 2024, Foreign Ministry Spokesperson Lin Jian hosted a regular press conference\n",
            "Sentiment: 0.13282780505793834\n",
            "Sentence: The spokesman of the National Development and Reform Commission discussed new opportunities for China's economy with the business community\n",
            "Sentiment: 0.10563421952288965\n",
            "Sentence: On March 18, 2024, Foreign Ministry Spokesperson Lin Jian hosted a regular press conference\n",
            "Sentiment: 0.13282780505793834\n",
            "Sentence: Taiwan Affairs Office of the State Council: Mutual assistance in dealing with emergencies at sea is the right way for both sides in the Taiwan Strait\n",
            "Sentiment: 0.22091695429926161\n",
            "Sentence: Spokesperson of the Ministry of Foreign Affairs responded to the negative remarks of the US Ambassador to China regarding China\n",
            "Sentiment: 0.25917217081084476\n",
            "Sentence: Ministry of Foreign Affairs: Will provide assistance to Cuba in overcoming current difficulties\n",
            "Sentiment: 0.07211230559073101\n",
            "Sentence: On March 15, 2024, Foreign Ministry Spokesperson Wang Wenbin hosted a regular press conference\n",
            "Sentiment: 0.13282780505793834\n",
            "Sentence: Taiwan Affairs Office of the State Council: Firmly supports the mainland coast guard department in carrying out law enforcement inspections in waters near Kinmen\n",
            "Sentiment: 0.1570370754786512\n",
            "Sentence: Ministry of Foreign Affairs: Spreading false information cannot stop China’s progress\n",
            "Sentiment: 0.301488340956675\n",
            "Sentence: Ministry of National Defense: India should stop actions that are inconsistent with easing the border situation\n",
            "Sentiment: 0.27984147275311977\n"
          ]
        }
      ]
    },
    {
      "cell_type": "code",
      "source": [
        "from snownlp import SnowNLP\n",
        "\n",
        "# Replace the input text with your desired text\n",
        "input_text = \"\"\"新闻稿\n",
        "中国驻菲律宾使馆发言人就美国国务卿布林肯在南海问题上的错误言论答记者问\n",
        "国台办：坚决反对建交国与中国台湾进行任何形式的官方往来\n",
        "外交部：祝贺穆斯塔法就任巴勒斯坦新总理\n",
        "外交部：敦促日方采取切实行动彻底脱离军国主义\n",
        "2024年3月19日，外交部发言人林坚主持例行记者会\n",
        "国家发改委新闻发言人与工商界共商中国经济新机遇\n",
        "2024年3月18日，外交部发言人林坚主持例行记者会\n",
        "国台办：台海双方互助应对海上突发事件才是正确之道\n",
        "外交部发言人回应美国驻华大使涉华负面言论\n",
        "外交部：将向古巴克服当前困难提供帮助\n",
        "2024年3月15日，外交部发言人汪文斌主持例行记者会\n",
        "国台办：坚决支持大陆海警部门在金门附近海域开展执法检查\n",
        "外交部：散布虚假信息阻挡不了中国前进的脚步\n",
        "国防部：印度应停止与缓和边境局势相悖的行动\"\"\"\n",
        "\n",
        "# Create SnowNLP object with the input text\n",
        "s = SnowNLP(input_text)\n",
        "\n",
        "# Keywords\n",
        "print(\"The keywords are:\")\n",
        "print(*s.keywords(5), sep=\", \")\n",
        "\n",
        "# Summary\n",
        "print(\"The summary is:\")\n",
        "print(*s.summary(2), sep=\", \")\n",
        "print(\" \")\n",
        "\n",
        "# Sentiment analysis on individual sentences\n",
        "sentences = s.sentences\n",
        "for sentence in sentences:\n",
        "    s_sentence = SnowNLP(sentence)\n",
        "    print(\"Sentence:\", sentence)\n",
        "    print(\"Sentiment:\", s_sentence.sentiments)\n"
      ],
      "metadata": {
        "colab": {
          "base_uri": "https://localhost:8080/"
        },
        "id": "vWA0PTu7_K8h",
        "outputId": "2176b885-2fd6-488c-b492-3e4729582f91"
      },
      "execution_count": null,
      "outputs": [
        {
          "output_type": "stream",
          "name": "stdout",
          "text": [
            "The keywords are:\n",
            "外交部, 中国, 发言人, 应, 美国\n",
            "The summary is:\n",
            "外交部发言人林坚主持例行记者会, 外交部发言人林坚主持例行记者会\n",
            " \n",
            "Sentence: 新闻稿\n",
            "Sentiment: 0.6645037616567715\n",
            "Sentence: 中国驻菲律宾使馆发言人就美国国务卿布林肯在南海问题上的错误言论答记者问\n",
            "Sentiment: 0.3577115446454615\n",
            "Sentence: 国台办：坚决反对建交国与中国台湾进行任何形式的官方往来\n",
            "Sentiment: 0.9858811227899732\n",
            "Sentence: 外交部：祝贺穆斯塔法就任巴勒斯坦新总理\n",
            "Sentiment: 0.6603689313443105\n",
            "Sentence: 外交部：敦促日方采取切实行动彻底脱离军国主义\n",
            "Sentiment: 0.6304746833989406\n",
            "Sentence: 2024年3月19日\n",
            "Sentiment: 0.07991033427032224\n",
            "Sentence: 外交部发言人林坚主持例行记者会\n",
            "Sentiment: 0.5625949974090925\n",
            "Sentence: 国家发改委新闻发言人与工商界共商中国经济新机遇\n",
            "Sentiment: 0.9864792047159534\n",
            "Sentence: 2024年3月18日\n",
            "Sentiment: 0.16811374790283784\n",
            "Sentence: 外交部发言人林坚主持例行记者会\n",
            "Sentiment: 0.5625949974090925\n",
            "Sentence: 国台办：台海双方互助应对海上突发事件才是正确之道\n",
            "Sentiment: 0.991949991808882\n",
            "Sentence: 外交部发言人回应美国驻华大使涉华负面言论\n",
            "Sentiment: 0.9879813696514639\n",
            "Sentence: 外交部：将向古巴克服当前困难提供帮助\n",
            "Sentiment: 0.5640603991776584\n",
            "Sentence: 2024年3月15日\n",
            "Sentiment: 0.09299983468069173\n",
            "Sentence: 外交部发言人汪文斌主持例行记者会\n",
            "Sentiment: 0.5218354548251938\n",
            "Sentence: 国台办：坚决支持大陆海警部门在金门附近海域开展执法检查\n",
            "Sentiment: 0.22720615762611063\n",
            "Sentence: 外交部：散布虚假信息阻挡不了中国前进的脚步\n",
            "Sentiment: 0.9561517584803187\n",
            "Sentence: 国防部：印度应停止与缓和边境局势相悖的行动\n",
            "Sentiment: 0.9659301788368787\n"
          ]
        }
      ]
    },
    {
      "cell_type": "code",
      "source": [],
      "metadata": {
        "id": "KIj_-40mAPtH"
      },
      "execution_count": null,
      "outputs": []
    }
  ]
}